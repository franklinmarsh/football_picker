{
 "cells": [
  {
   "cell_type": "code",
   "execution_count": 3,
   "metadata": {
    "collapsed": false
   },
   "outputs": [
    {
     "name": "stderr",
     "output_type": "stream",
     "text": [
      "/Users/Franklin/anaconda/lib/python2.7/site-packages/matplotlib/font_manager.py:273: UserWarning: Matplotlib is building the font cache using fc-list. This may take a moment.\n",
      "  warnings.warn('Matplotlib is building the font cache using fc-list. This may take a moment.')\n"
     ]
    }
   ],
   "source": [
    "#imports\n",
    "import numpy as np\n",
    "import matplotlib.pyplot as plt\n",
    "import astropy\n",
    "import scipy\n",
    "import gatspy\n",
    "from astropy.io import ascii\n",
    "from StringIO import StringIO\n",
    "from astropy.time import Time\n",
    "import operator\n",
    "\n",
    "import itertools\n",
    "\n",
    "import pandas as pd\n",
    "import sklearn\n",
    "import seaborn as sns\n",
    "\n",
    "from sklearn.decomposition import PCA \n",
    "from sklearn import linear_model\n",
    "from sklearn.cross_validation import *\n",
    "from sklearn import svm\n",
    "from sklearn.naive_bayes import GaussianNB\n",
    "from sklearn.metrics import confusion_matrix\n",
    "\n",
    "from collections import defaultdict\n",
    "\n",
    "from scipy import optimize\n",
    "\n",
    "# This is importing a \"future\" python version 3 print function.\n",
    "from __future__ import print_function\n",
    "from __future__ import division\n",
    "%matplotlib inline\n",
    "\n",
    "#DEFINE PI\n",
    "pi = np.pi\n",
    "\n",
    "fig_path = '../slope_project/' #set directory to save all figures\n",
    "sns.set_style('ticks') #seaborn figure preferences\n",
    "sns.set_context('paper', font_scale = 1.5)"
   ]
  },
  {
   "cell_type": "code",
   "execution_count": 4,
   "metadata": {
    "collapsed": true
   },
   "outputs": [],
   "source": [
    "def train_and_evaluate(clf, X_train, y_train, verbose = False):\n",
    "    clf.fit(X_train, y_train)\n",
    "\n",
    "    #create a k-fold cross validation iterator of k = 5 folds\n",
    "    cv = KFold(X_train.shape[0], 5, shuffle = True)\n",
    "    scores = cross_val_score(clf, X_train, y_train, cv = cv)\n",
    "\n",
    "    if verbose == True:\n",
    "        print(\"Coefficient of determination on training set:\", clf.score(X_train, y_train))\n",
    "        print(\"Average coefficient of determination using 5-fold crossvalidation:\", np.mean(scores))\n",
    "    \n",
    "    return clf.score(X_train, y_train), np.mean(scores)"
   ]
  },
  {
   "cell_type": "code",
   "execution_count": 5,
   "metadata": {
    "collapsed": false
   },
   "outputs": [],
   "source": [
    "d = pd.read_csv('pool_dataset.csv')"
   ]
  },
  {
   "cell_type": "code",
   "execution_count": 6,
   "metadata": {
    "collapsed": false
   },
   "outputs": [],
   "source": [
    "pick_cor = d.drop(['Unnamed: 0','spr','yr'], axis = 1).T.as_matrix()"
   ]
  },
  {
   "cell_type": "code",
   "execution_count": 7,
   "metadata": {
    "collapsed": false
   },
   "outputs": [],
   "source": [
    "names = list(d.drop(['Unnamed: 0','spr','yr'], axis = 1).columns)\n",
    "#remove Soblocoa from the pool\n",
    "names.remove('Soblocoa')"
   ]
  },
  {
   "cell_type": "code",
   "execution_count": 8,
   "metadata": {
    "collapsed": false
   },
   "outputs": [],
   "source": [
    "def PlotCorr(cor, labels):\n",
    "    \n",
    "    #labels = ['Min1','Max1','Min2','Max2']\n",
    "    \n",
    "    fig = plt.figure()\n",
    "    plt.imshow(cor, interpolation = 'nearest')\n",
    "    plt.xticks(range(len(labels)), labels, rotation = 90)\n",
    "    plt.yticks(range(len(labels)), labels)\n",
    "    \n",
    "    #for i in range(4):\n",
    "    #    for j in range(4):\n",
    "    #        plt.gca().annotate(str(cor[i][j].round(2)), xy = (i - 0.2,j + 0.1))\n",
    "    sns.despine()\n",
    "    \n",
    "    return fig"
   ]
  },
  {
   "cell_type": "code",
   "execution_count": 9,
   "metadata": {
    "collapsed": true
   },
   "outputs": [],
   "source": [
    "def model(x):\n",
    "    return 1 / (1 + np.exp(-x))\n",
    "\n",
    "def LogLikelihood(x, clf):\n",
    "    return model(x * clf.coef_ + clf.intercept_).ravel()\n",
    "\n",
    "def ComputeExpectation(spread, model_list, verbose = False):\n",
    "\n",
    "    favs_list = [] #total number of favorites\n",
    "\n",
    "    for model in model_list:\n",
    "        if verbose == True:\n",
    "            print(model + ' : ' + str(LogLikelihood(spread, model_list[model])))\n",
    "        favs_list.append(LogLikelihood(spread, model_list[model]))\n",
    "    \n",
    "    total_favs = sum(np.ravel(favs_list))\n",
    "    \n",
    "    if verbose == True:\n",
    "        print('Total Favorites: ' + str(total_favs))\n",
    "\n",
    "    possible_fav_points = len(model_list.keys()) - total_favs\n",
    "    possible_und_points = total_favs\n",
    "    \n",
    "    if verbose == True:\n",
    "        print('Poss. Fav. Points: ' + str(possible_fav_points))\n",
    "        print('Poss. Und. Points: ' + str(possible_und_points))\n",
    "\n",
    "    prob_fav_win = -0.026*(spread) + 0.5 #calculate probability favorite wins, based on spread\n",
    "    prob_und_win =  1.0 - (-0.026*(spread) + 0.5) #calculate probability favorite wins, based on spread\n",
    "    \n",
    "    if verbose == True:\n",
    "        print('Prob. Fav. Win: ' + str(prob_fav_win))\n",
    "        print('Prob. Und. Win: ' + str(prob_und_win))\n",
    "            \n",
    "    expect_fav_points = possible_fav_points*prob_fav_win\n",
    "    expect_und_points = possible_und_points*prob_und_win\n",
    "    \n",
    "    pick = []\n",
    "    \n",
    "    if expect_fav_points > expect_und_points:\n",
    "        pick = 1\n",
    "    elif expect_fav_points <= expect_und_points:\n",
    "        pick = 0\n",
    "    \n",
    "    return expect_fav_points, expect_und_points, pick"
   ]
  },
  {
   "cell_type": "code",
   "execution_count": 10,
   "metadata": {
    "collapsed": false
   },
   "outputs": [
    {
     "data": {
      "image/png": "[encoded data removed]",
      "text/plain": [
       "<matplotlib.figure.Figure at 0x10d40eb10>"
      ]
     },
     "metadata": {},
     "output_type": "display_data"
    }
   ],
   "source": [
    "cor_fig = PlotCorr(np.corrcoef(pick_cor), names)"
   ]
  },
  {
   "cell_type": "code",
   "execution_count": 15,
   "metadata": {
    "collapsed": false
   },
   "outputs": [],
   "source": [
    "model_dict = defaultdict()\n",
    "\n",
    "for name in names:\n",
    "    X_train, X_test, y_train, y_test = train_test_split(d[['spr']], d[[name]], test_size = 0.75)\n",
    "    log_clf = linear_model.LogisticRegression(C = 1e4)\n",
    "    log_clf.fit(X_train, np.ravel(y_train))\n",
    "    \n",
    "    model_dict[name] = log_clf\n",
    "\n",
    "model_dict['Jane'] = model_dict['Miles'] #model Jane as Miles"
   ]
  },
  {
   "cell_type": "code",
   "execution_count": 16,
   "metadata": {
    "collapsed": false
   },
   "outputs": [
    {
     "data": {
      "image/png": "[encoded data removed]",
      "text/plain": [
       "<matplotlib.figure.Figure at 0x10db17910>"
      ]
     },
     "metadata": {},
     "output_type": "display_data"
    }
   ],
   "source": [
    "for name in names:\n",
    "    plt.plot(np.linspace(-14,0), LogLikelihood(np.linspace(-14,0), model_dict[name]), label = name)\n",
    "    sns.despine()"
   ]
  },
  {
   "cell_type": "code",
   "execution_count": 17,
   "metadata": {
    "collapsed": false
   },
   "outputs": [],
   "source": [
    "expects_fav = []\n",
    "expects_und = []\n",
    "\n",
    "for i in np.linspace(-16,0,100):\n",
    "    expects_fav.append(ComputeExpectation(i,model_dict, verbose = False)[0])\n",
    "    expects_und.append(ComputeExpectation(i,model_dict, verbose = False)[1])"
   ]
  },
  {
   "cell_type": "code",
   "execution_count": 18,
   "metadata": {
    "collapsed": false
   },
   "outputs": [
    {
     "data": {
      "image/png": "[encoded data removed]",
      "text/plain": [
       "<matplotlib.figure.Figure at 0x11fb33bd0>"
      ]
     },
     "metadata": {},
     "output_type": "display_data"
    }
   ],
   "source": [
    "plt.plot(np.linspace(-16,0,100), expects_fav)\n",
    "plt.plot(np.linspace(-16,0,100), expects_und)\n",
    "plt.axvline(-3, lw = 1, color = 'gray')\n",
    "plt.axvline(-7, lw = 1, color = 'gray')\n",
    "plt.axvline(-14, lw = 1, color = 'gray')\n",
    "sns.despine()"
   ]
  },
  {
   "cell_type": "code",
   "execution_count": 19,
   "metadata": {
    "collapsed": false
   },
   "outputs": [
    {
     "data": {
      "image/png": "[encoded data removed]",
      "text/plain": [
       "<matplotlib.figure.Figure at 0x10db0d910>"
      ]
     },
     "metadata": {},
     "output_type": "display_data"
    }
   ],
   "source": [
    "plt.plot(np.linspace(-16,0,100), np.array(expects_fav) - np.array(expects_und))\n",
    "plt.axhline(0, lw = 1, c = 'gray')\n",
    "sns.despine()"
   ]
  },
  {
   "cell_type": "code",
   "execution_count": 20,
   "metadata": {
    "collapsed": true
   },
   "outputs": [],
   "source": [
    "def SimulateSpreads(spreaddist, length):\n",
    "    g_spreads = spreaddist[np.random.randint(0,len(spreaddist), length)]\n",
    "    return np.array(g_spreads)"
   ]
  },
  {
   "cell_type": "code",
   "execution_count": 21,
   "metadata": {
    "collapsed": false
   },
   "outputs": [],
   "source": [
    "def MakePick(spread, model_dict):\n",
    "    \n",
    "    pick = defaultdict()\n",
    "    \n",
    "    for model in model_dict:\n",
    "        \n",
    "        if np.random.uniform(0,1) <= LogLikelihood(spread, model_dict[model]):\n",
    "            pick[model] = 1\n",
    "        else:\n",
    "            pick[model] = 0\n",
    "            \n",
    "    return pick\n",
    "\n",
    "def SimulateGame(spread):\n",
    "    \n",
    "    if np.random.uniform(0,1) <= -0.026*(spread) + 0.5:\n",
    "        winner = 1\n",
    "    else:\n",
    "        winner = 0\n",
    "    \n",
    "    return winner"
   ]
  },
  {
   "cell_type": "code",
   "execution_count": 22,
   "metadata": {
    "collapsed": false
   },
   "outputs": [],
   "source": [
    "pix = []\n",
    "games = []\n",
    "franklona = []\n",
    "\n",
    "for spread in SimulateSpreads(d['spr'],16):    \n",
    "    pix.append(MakePick(spread, model_dict))\n",
    "    games.append(SimulateGame(spread))\n",
    "    franklona.append(ComputeExpectation(spread,model_dict)[-1])\n",
    "    \n",
    "pix = pd.DataFrame(pix)\n",
    "games = pd.DataFrame(games)\n",
    "\n",
    "pix['Franklona'] = franklona #add Franklona back into the pool"
   ]
  },
  {
   "cell_type": "code",
   "execution_count": 23,
   "metadata": {
    "collapsed": false
   },
   "outputs": [
    {
     "data": {
      "text/html": [
       "<div>\n",
       "<table border=\"1\" class=\"dataframe\">\n",
       "  <thead>\n",
       "    <tr style=\"text-align: right;\">\n",
       "      <th></th>\n",
       "      <th>Anne</th>\n",
       "      <th>Cate</th>\n",
       "      <th>Donna</th>\n",
       "      <th>Elliott</th>\n",
       "      <th>Francis</th>\n",
       "      <th>Gabhandy</th>\n",
       "      <th>Gary</th>\n",
       "      <th>Jane</th>\n",
       "      <th>Joeanne</th>\n",
       "      <th>Jonathan</th>\n",
       "      <th>Leslie</th>\n",
       "      <th>Miles</th>\n",
       "      <th>Packy</th>\n",
       "      <th>Paul</th>\n",
       "      <th>Roberta</th>\n",
       "      <th>Franklona</th>\n",
       "    </tr>\n",
       "  </thead>\n",
       "  <tbody>\n",
       "    <tr>\n",
       "      <th>0</th>\n",
       "      <td>0</td>\n",
       "      <td>0</td>\n",
       "      <td>0</td>\n",
       "      <td>1</td>\n",
       "      <td>0</td>\n",
       "      <td>1</td>\n",
       "      <td>0</td>\n",
       "      <td>1</td>\n",
       "      <td>0</td>\n",
       "      <td>1</td>\n",
       "      <td>0</td>\n",
       "      <td>0</td>\n",
       "      <td>1</td>\n",
       "      <td>1</td>\n",
       "      <td>1</td>\n",
       "      <td>1</td>\n",
       "    </tr>\n",
       "    <tr>\n",
       "      <th>1</th>\n",
       "      <td>1</td>\n",
       "      <td>1</td>\n",
       "      <td>1</td>\n",
       "      <td>0</td>\n",
       "      <td>0</td>\n",
       "      <td>1</td>\n",
       "      <td>1</td>\n",
       "      <td>1</td>\n",
       "      <td>0</td>\n",
       "      <td>1</td>\n",
       "      <td>1</td>\n",
       "      <td>0</td>\n",
       "      <td>1</td>\n",
       "      <td>1</td>\n",
       "      <td>0</td>\n",
       "      <td>0</td>\n",
       "    </tr>\n",
       "    <tr>\n",
       "      <th>2</th>\n",
       "      <td>1</td>\n",
       "      <td>1</td>\n",
       "      <td>0</td>\n",
       "      <td>1</td>\n",
       "      <td>0</td>\n",
       "      <td>1</td>\n",
       "      <td>0</td>\n",
       "      <td>1</td>\n",
       "      <td>1</td>\n",
       "      <td>1</td>\n",
       "      <td>0</td>\n",
       "      <td>1</td>\n",
       "      <td>1</td>\n",
       "      <td>1</td>\n",
       "      <td>1</td>\n",
       "      <td>0</td>\n",
       "    </tr>\n",
       "    <tr>\n",
       "      <th>3</th>\n",
       "      <td>1</td>\n",
       "      <td>1</td>\n",
       "      <td>1</td>\n",
       "      <td>0</td>\n",
       "      <td>0</td>\n",
       "      <td>1</td>\n",
       "      <td>0</td>\n",
       "      <td>1</td>\n",
       "      <td>0</td>\n",
       "      <td>1</td>\n",
       "      <td>0</td>\n",
       "      <td>0</td>\n",
       "      <td>0</td>\n",
       "      <td>0</td>\n",
       "      <td>1</td>\n",
       "      <td>1</td>\n",
       "    </tr>\n",
       "    <tr>\n",
       "      <th>4</th>\n",
       "      <td>0</td>\n",
       "      <td>1</td>\n",
       "      <td>1</td>\n",
       "      <td>0</td>\n",
       "      <td>0</td>\n",
       "      <td>1</td>\n",
       "      <td>1</td>\n",
       "      <td>1</td>\n",
       "      <td>1</td>\n",
       "      <td>1</td>\n",
       "      <td>0</td>\n",
       "      <td>0</td>\n",
       "      <td>1</td>\n",
       "      <td>0</td>\n",
       "      <td>0</td>\n",
       "      <td>0</td>\n",
       "    </tr>\n",
       "    <tr>\n",
       "      <th>5</th>\n",
       "      <td>0</td>\n",
       "      <td>0</td>\n",
       "      <td>1</td>\n",
       "      <td>0</td>\n",
       "      <td>1</td>\n",
       "      <td>1</td>\n",
       "      <td>1</td>\n",
       "      <td>1</td>\n",
       "      <td>1</td>\n",
       "      <td>1</td>\n",
       "      <td>1</td>\n",
       "      <td>0</td>\n",
       "      <td>1</td>\n",
       "      <td>1</td>\n",
       "      <td>0</td>\n",
       "      <td>0</td>\n",
       "    </tr>\n",
       "    <tr>\n",
       "      <th>6</th>\n",
       "      <td>1</td>\n",
       "      <td>1</td>\n",
       "      <td>0</td>\n",
       "      <td>1</td>\n",
       "      <td>1</td>\n",
       "      <td>1</td>\n",
       "      <td>1</td>\n",
       "      <td>1</td>\n",
       "      <td>1</td>\n",
       "      <td>1</td>\n",
       "      <td>1</td>\n",
       "      <td>1</td>\n",
       "      <td>1</td>\n",
       "      <td>1</td>\n",
       "      <td>1</td>\n",
       "      <td>0</td>\n",
       "    </tr>\n",
       "    <tr>\n",
       "      <th>7</th>\n",
       "      <td>1</td>\n",
       "      <td>1</td>\n",
       "      <td>0</td>\n",
       "      <td>1</td>\n",
       "      <td>1</td>\n",
       "      <td>1</td>\n",
       "      <td>1</td>\n",
       "      <td>1</td>\n",
       "      <td>1</td>\n",
       "      <td>1</td>\n",
       "      <td>1</td>\n",
       "      <td>1</td>\n",
       "      <td>1</td>\n",
       "      <td>1</td>\n",
       "      <td>1</td>\n",
       "      <td>0</td>\n",
       "    </tr>\n",
       "    <tr>\n",
       "      <th>8</th>\n",
       "      <td>1</td>\n",
       "      <td>0</td>\n",
       "      <td>1</td>\n",
       "      <td>0</td>\n",
       "      <td>0</td>\n",
       "      <td>1</td>\n",
       "      <td>0</td>\n",
       "      <td>1</td>\n",
       "      <td>0</td>\n",
       "      <td>1</td>\n",
       "      <td>1</td>\n",
       "      <td>0</td>\n",
       "      <td>0</td>\n",
       "      <td>1</td>\n",
       "      <td>1</td>\n",
       "      <td>1</td>\n",
       "    </tr>\n",
       "    <tr>\n",
       "      <th>9</th>\n",
       "      <td>1</td>\n",
       "      <td>0</td>\n",
       "      <td>1</td>\n",
       "      <td>1</td>\n",
       "      <td>0</td>\n",
       "      <td>1</td>\n",
       "      <td>0</td>\n",
       "      <td>1</td>\n",
       "      <td>0</td>\n",
       "      <td>0</td>\n",
       "      <td>0</td>\n",
       "      <td>0</td>\n",
       "      <td>0</td>\n",
       "      <td>0</td>\n",
       "      <td>0</td>\n",
       "      <td>1</td>\n",
       "    </tr>\n",
       "    <tr>\n",
       "      <th>10</th>\n",
       "      <td>0</td>\n",
       "      <td>1</td>\n",
       "      <td>0</td>\n",
       "      <td>0</td>\n",
       "      <td>1</td>\n",
       "      <td>0</td>\n",
       "      <td>0</td>\n",
       "      <td>0</td>\n",
       "      <td>0</td>\n",
       "      <td>0</td>\n",
       "      <td>1</td>\n",
       "      <td>0</td>\n",
       "      <td>0</td>\n",
       "      <td>0</td>\n",
       "      <td>1</td>\n",
       "      <td>1</td>\n",
       "    </tr>\n",
       "    <tr>\n",
       "      <th>11</th>\n",
       "      <td>1</td>\n",
       "      <td>0</td>\n",
       "      <td>0</td>\n",
       "      <td>1</td>\n",
       "      <td>1</td>\n",
       "      <td>1</td>\n",
       "      <td>1</td>\n",
       "      <td>1</td>\n",
       "      <td>1</td>\n",
       "      <td>1</td>\n",
       "      <td>1</td>\n",
       "      <td>1</td>\n",
       "      <td>0</td>\n",
       "      <td>1</td>\n",
       "      <td>0</td>\n",
       "      <td>0</td>\n",
       "    </tr>\n",
       "    <tr>\n",
       "      <th>12</th>\n",
       "      <td>0</td>\n",
       "      <td>1</td>\n",
       "      <td>0</td>\n",
       "      <td>1</td>\n",
       "      <td>0</td>\n",
       "      <td>0</td>\n",
       "      <td>1</td>\n",
       "      <td>1</td>\n",
       "      <td>1</td>\n",
       "      <td>0</td>\n",
       "      <td>1</td>\n",
       "      <td>1</td>\n",
       "      <td>0</td>\n",
       "      <td>1</td>\n",
       "      <td>0</td>\n",
       "      <td>1</td>\n",
       "    </tr>\n",
       "    <tr>\n",
       "      <th>13</th>\n",
       "      <td>1</td>\n",
       "      <td>0</td>\n",
       "      <td>0</td>\n",
       "      <td>1</td>\n",
       "      <td>1</td>\n",
       "      <td>1</td>\n",
       "      <td>1</td>\n",
       "      <td>1</td>\n",
       "      <td>1</td>\n",
       "      <td>1</td>\n",
       "      <td>1</td>\n",
       "      <td>1</td>\n",
       "      <td>1</td>\n",
       "      <td>1</td>\n",
       "      <td>0</td>\n",
       "      <td>0</td>\n",
       "    </tr>\n",
       "    <tr>\n",
       "      <th>14</th>\n",
       "      <td>1</td>\n",
       "      <td>0</td>\n",
       "      <td>1</td>\n",
       "      <td>0</td>\n",
       "      <td>0</td>\n",
       "      <td>1</td>\n",
       "      <td>0</td>\n",
       "      <td>0</td>\n",
       "      <td>0</td>\n",
       "      <td>0</td>\n",
       "      <td>1</td>\n",
       "      <td>0</td>\n",
       "      <td>0</td>\n",
       "      <td>0</td>\n",
       "      <td>0</td>\n",
       "      <td>1</td>\n",
       "    </tr>\n",
       "    <tr>\n",
       "      <th>15</th>\n",
       "      <td>0</td>\n",
       "      <td>0</td>\n",
       "      <td>0</td>\n",
       "      <td>1</td>\n",
       "      <td>1</td>\n",
       "      <td>1</td>\n",
       "      <td>1</td>\n",
       "      <td>1</td>\n",
       "      <td>1</td>\n",
       "      <td>1</td>\n",
       "      <td>0</td>\n",
       "      <td>1</td>\n",
       "      <td>1</td>\n",
       "      <td>1</td>\n",
       "      <td>1</td>\n",
       "      <td>0</td>\n",
       "    </tr>\n",
       "  </tbody>\n",
       "</table>\n",
       "</div>"
      ],
      "text/plain": [
       "    Anne  Cate  Donna  Elliott  Francis  Gabhandy  Gary  Jane  Joeanne  \\\n",
       "0      0     0      0        1        0         1     0     1        0   \n",
       "1      1     1      1        0        0         1     1     1        0   \n",
       "2      1     1      0        1        0         1     0     1        1   \n",
       "3      1     1      1        0        0         1     0     1        0   \n",
       "4      0     1      1        0        0         1     1     1        1   \n",
       "5      0     0      1        0        1         1     1     1        1   \n",
       "6      1     1      0        1        1         1     1     1        1   \n",
       "7      1     1      0        1        1         1     1     1        1   \n",
       "8      1     0      1        0        0         1     0     1        0   \n",
       "9      1     0      1        1        0         1     0     1        0   \n",
       "10     0     1      0        0        1         0     0     0        0   \n",
       "11     1     0      0        1        1         1     1     1        1   \n",
       "12     0     1      0        1        0         0     1     1        1   \n",
       "13     1     0      0        1        1         1     1     1        1   \n",
       "14     1     0      1        0        0         1     0     0        0   \n",
       "15     0     0      0        1        1         1     1     1        1   \n",
       "\n",
       "    Jonathan  Leslie  Miles  Packy  Paul  Roberta  Franklona  \n",
       "0          1       0      0      1     1        1          1  \n",
       "1          1       1      0      1     1        0          0  \n",
       "2          1       0      1      1     1        1          0  \n",
       "3          1       0      0      0     0        1          1  \n",
       "4          1       0      0      1     0        0          0  \n",
       "5          1       1      0      1     1        0          0  \n",
       "6          1       1      1      1     1        1          0  \n",
       "7          1       1      1      1     1        1          0  \n",
       "8          1       1      0      0     1        1          1  \n",
       "9          0       0      0      0     0        0          1  \n",
       "10         0       1      0      0     0        1          1  \n",
       "11         1       1      1      0     1        0          0  \n",
       "12         0       1      1      0     1        0          1  \n",
       "13         1       1      1      1     1        0          0  \n",
       "14         0       1      0      0     0        0          1  \n",
       "15         1       0      1      1     1        1          0  "
      ]
     },
     "execution_count": 23,
     "metadata": {},
     "output_type": "execute_result"
    }
   ],
   "source": [
    "pix"
   ]
  },
  {
   "cell_type": "code",
   "execution_count": 541,
   "metadata": {
    "collapsed": false
   },
   "outputs": [],
   "source": [
    "final_points = []\n",
    "\n",
    "und_pts = pix.sum(axis = 1)\n",
    "fav_pts = len(pix.T) - und_pts\n",
    "\n",
    "for i in range(len(pix)):\n",
    "    for game in pix.loc[i]:\n",
    "        if (game == games.loc[i][0]) & (game == 1):\n",
    "            final_points.append(fav_pts)\n",
    "        elif (game == games.loc[i][0]) & (game == 0):\n",
    "            final_points.append(und_pts)\n",
    "        else:\n",
    "            final_points.append(0)"
   ]
  },
  {
   "cell_type": "code",
   "execution_count": 24,
   "metadata": {
    "collapsed": false
   },
   "outputs": [],
   "source": [
    "'''\n",
    "WEEK 4:\n",
    "week_spreads = [-7.0,-2.5,-9.0,-4.5,-1.5,-3.0,-3.0,-6.5,-3.5,-3.0,-3.0,-3.5,-8.0,-5.5,-4.0]\n",
    "\n",
    "week_favs = [\"Cincinnati\", \"Indianapolis\", \"Washington\", \"New England\",\\\n",
    "            \"Seattle\", \"Carolina\", \"Detroit\", \"Houston\", \"Baltimore\", \"Denver\",\\\n",
    "            \"Dallas\", \"San Diego\", \"Arizona\", \"Pittsburgh\", \"Minnesota\"]\n",
    "\n",
    "week_unds = [\"Miami\", \"Jacksonville\", \"Cleveland\", \"Buffalo\", \"NY Jets\", \"Atlanta\", \"Chicago\",\\\n",
    "             \"Tennessee\", \"Oakland\", \"Tampa Bay\", \"San Francisco\", \"New Orleans\",\"Los Angeles\",\\\n",
    "             \"Kansas City\",\"NY Giants\"]\n",
    "\n",
    "WEEK 5:\n",
    "week_spreads = [-4.5,-6.0,-3.5,-10.5,-7.0,-4.0,-3.0,-4.5,-6.0,-2.5,-4.0,-1.0,-7.0,-6.0]\n",
    "\n",
    "week_favs = [\"Arizona\", \"Minnesota\", \"Miami\", \"New England\",\\\n",
    "            \"Pittsburgh\", \"Baltimore\", \"Philadelphia\", \"Indianapolis\", \"Denver\", \"Los Angeles\",\\\n",
    "            \"Oakland\", \"Cincinnati\", \"Green Bay\", \"Carolina\"]\n",
    "\n",
    "week_unds = [\"San Francisco\", \"Houston\", \"Tennessee\", \"Cleveland\", \"NY Jets\", \"Washington\", \"Detroit\",\\\n",
    "             \"Chicago\", \"Atlanta\", \"Buffalo\", \"San Diego\", \"Dallas\",\"NY Giants\",\\\n",
    "             \"Tampa Bay\"]\n",
    "\n",
    "'''\n",
    "\n",
    "week_spreads = [-3.5,-9.0,-3.0,-3.0,-7.5,-2.5,-8.0,-3.5,-7.0,-2.0,-1.0,-6.0,-4.0,-3.0, -8.0]\n",
    "\n",
    "week_favs = [\"Denver\", \"New England\", \"NY Giants\", \"Carolina\",\\\n",
    "            \"Pittsburgh\", \"Chicago\", \"Buffalo\", \"Detroit\", \"Tennessee\", \"Philadelphia\",\\\n",
    "            \"Oakland\", \"Seattle\", \"Green Bay\", \"Houston\", \"NY Jets\"]\n",
    "\n",
    "week_unds = [\"San Diego\", \"Cincinnati\", \"Baltimore\", \"New Orleans\", \"Miami\", \"Jacksonville\", \"San Francisco\",\\\n",
    "             \"Los Angeles\", \"Cleveland\", \"Washington\", \"Kansas City\", \"Atlanta\",\"Dallas\",\\\n",
    "             \"Indianapolis\", \"NY Jets\"]\n",
    "\n",
    "def PrintPicks(spreads, favs, unds):\n",
    "\n",
    "    fav_boolean = []\n",
    "\n",
    "    for spread in spreads: #for every spread during the week   \n",
    "        fav_boolean.append(ComputeExpectation(spread,model_dict)[-1])\n",
    "    \n",
    "    print(fav_boolean)\n",
    "    \n",
    "    pick_names = []\n",
    "    \n",
    "    for i in range(len(fav_boolean)):\n",
    "        if fav_boolean[i] == 1:\n",
    "            pick_names.append(week_favs[i])\n",
    "        elif fav_boolean[i] == 0:\n",
    "            pick_names.append(week_unds[i])\n",
    "            \n",
    "    return(pick_names)"
   ]
  },
  {
   "cell_type": "code",
   "execution_count": 25,
   "metadata": {
    "collapsed": false,
    "scrolled": false
   },
   "outputs": [
    {
     "name": "stdout",
     "output_type": "stream",
     "text": [
      "[0, 0, 0, 0, 0, 0, 0, 0, 0, 1, 1, 0, 0, 0, 0]\n"
     ]
    },
    {
     "data": {
      "text/plain": [
       "['San Diego',\n",
       " 'Cincinnati',\n",
       " 'Baltimore',\n",
       " 'New Orleans',\n",
       " 'Miami',\n",
       " 'Jacksonville',\n",
       " 'San Francisco',\n",
       " 'Los Angeles',\n",
       " 'Cleveland',\n",
       " 'Philadelphia',\n",
       " 'Oakland',\n",
       " 'Atlanta',\n",
       " 'Dallas',\n",
       " 'Indianapolis',\n",
       " 'NY Jets']"
      ]
     },
     "execution_count": 25,
     "metadata": {},
     "output_type": "execute_result"
    }
   ],
   "source": [
    "PrintPicks(week_spreads, week_favs, week_unds)"
   ]
  },
  {
   "cell_type": "code",
   "execution_count": 26,
   "metadata": {
    "collapsed": false
   },
   "outputs": [],
   "source": [
    "expect_points = [max(ComputeExpectation(i,model_dict)) for i in week_spreads] "
   ]
  },
  {
   "cell_type": "code",
   "execution_count": 27,
   "metadata": {
    "collapsed": false
   },
   "outputs": [
    {
     "data": {
      "text/plain": [
       "57.532089518393356"
      ]
     },
     "execution_count": 27,
     "metadata": {},
     "output_type": "execute_result"
    }
   ],
   "source": [
    "sum(expect_points)"
   ]
  },
  {
   "cell_type": "code",
   "execution_count": 28,
   "metadata": {
    "collapsed": false
   },
   "outputs": [
    {
     "data": {
      "text/plain": [
       "3.8354726345595571"
      ]
     },
     "execution_count": 28,
     "metadata": {},
     "output_type": "execute_result"
    }
   ],
   "source": [
    "sum(expect_points)/len(week_spreads)"
   ]
  },
  {
   "cell_type": "code",
   "execution_count": null,
   "metadata": {
    "collapsed": true
   },
   "outputs": [],
   "source": []
  }
 ],
 "metadata": {
  "kernelspec": {
   "display_name": "Python 2",
   "language": "python",
   "name": "python2"
  },
  "language_info": {
   "codemirror_mode": {
    "name": "ipython",
    "version": 2
   },
   "file_extension": ".py",
   "mimetype": "text/x-python",
   "name": "python",
   "nbconvert_exporter": "python",
   "pygments_lexer": "ipython2",
   "version": "2.7.12"
  }
 },
 "nbformat": 4,
 "nbformat_minor": 0
}
